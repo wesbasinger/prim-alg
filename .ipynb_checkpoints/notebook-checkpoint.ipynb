{
 "cells": [
  {
   "cell_type": "code",
   "execution_count": 51,
   "metadata": {
    "collapsed": false
   },
   "outputs": [],
   "source": [
    "from decimal import Decimal\n",
    "\n",
    "class Vertex(object):\n",
    "    \n",
    "    def __init__(self, x, y):\n",
    "        \n",
    "        self.x = x\n",
    "        self.y = y\n",
    "        self.is_reached = False\n",
    "        \n",
    "    def get_reached(self):\n",
    "        \n",
    "        return self.is_reached\n",
    "    \n",
    "    def set_reached(self):\n",
    "        \n",
    "        self.is_reached = True\n",
    "        \n",
    "    def get_x(self):\n",
    "        \n",
    "        return self.x\n",
    "    \n",
    "    def get_y(self):\n",
    "        \n",
    "        return self.y\n",
    "    \n",
    "    def __str__(self):\n",
    "        return \"( \" + str(self.x) + \", \" + str(self.y) + \" )\"\n",
    "    \n",
    "class Edge(object):\n",
    "    \n",
    "    def __init__(self, first_point, second_point):\n",
    "        \n",
    "        self.first_point = first_point\n",
    "        self.second_point = second_point\n",
    "        \n",
    "        self.weight = (\n",
    "            (self.first_point.get_x() - self.second_point.get_x())**2 +\\\n",
    "            (self.first_point.get_y() - self.second_point.get_y())**2)**0.5\n",
    "        \n",
    "    def get_second_point(self):\n",
    "        \n",
    "        return self.second_point\n",
    "        \n",
    "    def get_weight(self):\n",
    "        \n",
    "        return self.weight\n",
    "    \n",
    "    def __str__(self):\n",
    "        \n",
    "        return \"From: \" + self.first_point.__str__() + \" To: \" + self.second_point.__str__() + \" Weight: \" + str(self.weight)\n",
    "\n",
    "    \n",
    "class Graph(object):\n",
    "    \n",
    "    def __init__(self, vertex_list):\n",
    "        \n",
    "        # initialized with every vertex, as graph is constructed, this list is emptied\n",
    "        self.vertex_list = vertex_list\n",
    "        \n",
    "        # array of edges\n",
    "        self.min_span_tree = []\n",
    "        \n",
    "    def check_all_reached(self):\n",
    "        \n",
    "        for vertex in self.vertex_list:\n",
    "            if not vertex.get_reached():\n",
    "                return False\n",
    "        return True\n",
    "        \n",
    "        \n",
    "    \n",
    "    def get_reached_and_unreached_nodes(self):\n",
    "        \n",
    "        reached = []\n",
    "        unreached = []\n",
    "        \n",
    "        for node in self.vertex_list:\n",
    "            \n",
    "            if node.get_reached():\n",
    "                \n",
    "                reached.append(node)\n",
    "                \n",
    "            else:\n",
    "                \n",
    "                unreached.append(node)\n",
    "        \n",
    "        return (reached, unreached)\n",
    "    \n",
    "    \n",
    "        \n",
    "    def make_tree(self):\n",
    "      \n",
    "        self.vertex_list[0].set_reached()\n",
    "        \n",
    "        iteration = 1\n",
    "                \n",
    "        while not self.check_all_reached():\n",
    "            \n",
    "            print(\"Starting iteration...\", iteration)\n",
    "            \n",
    "            reached_and_unreached = self.get_reached_and_unreached_nodes()\n",
    "            \n",
    "            reached = reached_and_unreached[0]\n",
    "            print(\"Reached: \", reached)\n",
    "            unreached = reached_and_unreached[1]\n",
    "            print(\"Unreached: \", unreached)\n",
    "                        \n",
    "            possible_edges = []\n",
    "            \n",
    "            for reached_node in reached:\n",
    "                \n",
    "                for unreached_node in unreached:\n",
    "                    \n",
    "                    possible_edges.append(Edge(reached_node, unreached_node))\n",
    "            \n",
    "            print(\"Possible Edges: \", possible_edges)\n",
    "            winning_weight = Decimal(\"Infinity\")\n",
    "            winning_edge = None\n",
    "            \n",
    "            for edge in possible_edges:\n",
    "                \n",
    "                print(\"Trying, \", edge.__str__())\n",
    "                \n",
    "                if edge.get_weight() < winning_weight:\n",
    "                    \n",
    "                    winning_weight = edge.get_weight()\n",
    "                    winning_edge = edge\n",
    "                    \n",
    "            print(\"Winning weight: \", winning_weight)\n",
    "            print(\"Winning edge: \", winning_edge.__str__())\n",
    "            \n",
    "            new_reached_point = winning_edge.get_second_point()\n",
    "            print(new_reached_point.__str__())\n",
    "            new_reached_point.set_reached()\n",
    "            print(\"Set new reached point as reached\")\n",
    "            \n",
    "            self.min_span_tree.append(winning_edge)\n",
    "            print(\"Added, \", winning_edge.__str__())\n",
    "            \n",
    "            iteration += 1\n",
    "            print(\"bumped iteration\")\n",
    "            \n",
    "            print(\"Made it one more line\")\n",
    "            \n",
    "            for v in self.vertex_list:\n",
    "                print(v.__str__(), v.is_reached)\n",
    "            \n",
    "            print(self.check_all_reached())\n",
    "            \n",
    "            print(self.min_span_tree)\n",
    "            \n",
    "    def print_tree(self):\n",
    "        \n",
    "        total_weight = 0\n",
    "        \n",
    "        for e in self.min_span_tree:\n",
    "            \n",
    "            try:\n",
    "                total_weight += e.get_weight()\n",
    "            except AttributeError:\n",
    "                pass\n",
    "            print(e.__str__())\n",
    "        print(\"Total Weight: \" + str(total_weight))"
   ]
  },
  {
   "cell_type": "code",
   "execution_count": 59,
   "metadata": {
    "collapsed": true
   },
   "outputs": [],
   "source": [
    "vertices = [Vertex(0,0), Vertex(7, 2), Vertex(2,3), Vertex(6,7), Vertex(4,5), Vertex(10,0), Vertex(13, 8), Vertex(9,5)]"
   ]
  },
  {
   "cell_type": "code",
   "execution_count": 60,
   "metadata": {
    "collapsed": false
   },
   "outputs": [
    {
     "data": {
      "text/plain": [
       "[<__main__.Vertex at 0x104873550>,\n",
       " <__main__.Vertex at 0x1048730f0>,\n",
       " <__main__.Vertex at 0x104873128>,\n",
       " <__main__.Vertex at 0x104873320>,\n",
       " <__main__.Vertex at 0x104873358>,\n",
       " <__main__.Vertex at 0x1048737f0>,\n",
       " <__main__.Vertex at 0x104873898>,\n",
       " <__main__.Vertex at 0x1048738d0>]"
      ]
     },
     "execution_count": 60,
     "metadata": {},
     "output_type": "execute_result"
    }
   ],
   "source": [
    "vertices"
   ]
  },
  {
   "cell_type": "code",
   "execution_count": 61,
   "metadata": {
    "collapsed": true
   },
   "outputs": [],
   "source": [
    "g = Graph(vertices)"
   ]
  },
  {
   "cell_type": "code",
   "execution_count": 63,
   "metadata": {
    "collapsed": false
   },
   "outputs": [
    {
     "name": "stdout",
     "output_type": "stream",
     "text": [
      "Starting iteration... 1\n",
      "Reached:  []\n",
      "Unreached:  [<__main__.Vertex object at 0x104873550>, <__main__.Vertex object at 0x1048730f0>, <__main__.Vertex object at 0x104873128>, <__main__.Vertex object at 0x104873320>, <__main__.Vertex object at 0x104873358>, <__main__.Vertex object at 0x1048737f0>, <__main__.Vertex object at 0x104873898>, <__main__.Vertex object at 0x1048738d0>]\n",
      "Possible Edges:  []\n",
      "Winning weight:  Infinity\n",
      "Winning edge:  None\n"
     ]
    },
    {
     "ename": "AttributeError",
     "evalue": "'NoneType' object has no attribute 'get_second_point'",
     "output_type": "error",
     "traceback": [
      "\u001b[0;31m---------------------------------------------------------------------------\u001b[0m",
      "\u001b[0;31mAttributeError\u001b[0m                            Traceback (most recent call last)",
      "\u001b[0;32m<ipython-input-63-dcdc58883be1>\u001b[0m in \u001b[0;36m<module>\u001b[0;34m()\u001b[0m\n\u001b[0;32m----> 1\u001b[0;31m \u001b[0mg\u001b[0m\u001b[0;34m.\u001b[0m\u001b[0mmake_tree\u001b[0m\u001b[0;34m(\u001b[0m\u001b[0;34m)\u001b[0m\u001b[0;34m\u001b[0m\u001b[0m\n\u001b[0m",
      "\u001b[0;32m<ipython-input-51-57739df2e057>\u001b[0m in \u001b[0;36mmake_tree\u001b[0;34m(self)\u001b[0m\n\u001b[1;32m    131\u001b[0m             \u001b[0mprint\u001b[0m\u001b[0;34m(\u001b[0m\u001b[0;34m\"Winning edge: \"\u001b[0m\u001b[0;34m,\u001b[0m \u001b[0mwinning_edge\u001b[0m\u001b[0;34m.\u001b[0m\u001b[0m__str__\u001b[0m\u001b[0;34m(\u001b[0m\u001b[0;34m)\u001b[0m\u001b[0;34m)\u001b[0m\u001b[0;34m\u001b[0m\u001b[0m\n\u001b[1;32m    132\u001b[0m \u001b[0;34m\u001b[0m\u001b[0m\n\u001b[0;32m--> 133\u001b[0;31m             \u001b[0mnew_reached_point\u001b[0m \u001b[0;34m=\u001b[0m \u001b[0mwinning_edge\u001b[0m\u001b[0;34m.\u001b[0m\u001b[0mget_second_point\u001b[0m\u001b[0;34m(\u001b[0m\u001b[0;34m)\u001b[0m\u001b[0;34m\u001b[0m\u001b[0m\n\u001b[0m\u001b[1;32m    134\u001b[0m             \u001b[0mprint\u001b[0m\u001b[0;34m(\u001b[0m\u001b[0mnew_reached_point\u001b[0m\u001b[0;34m.\u001b[0m\u001b[0m__str__\u001b[0m\u001b[0;34m(\u001b[0m\u001b[0;34m)\u001b[0m\u001b[0;34m)\u001b[0m\u001b[0;34m\u001b[0m\u001b[0m\n\u001b[1;32m    135\u001b[0m             \u001b[0mnew_reached_point\u001b[0m\u001b[0;34m.\u001b[0m\u001b[0mset_reached\u001b[0m\u001b[0;34m(\u001b[0m\u001b[0;34m)\u001b[0m\u001b[0;34m\u001b[0m\u001b[0m\n",
      "\u001b[0;31mAttributeError\u001b[0m: 'NoneType' object has no attribute 'get_second_point'"
     ]
    }
   ],
   "source": [
    "g.make_tree()"
   ]
  },
  {
   "cell_type": "code",
   "execution_count": null,
   "metadata": {
    "collapsed": true
   },
   "outputs": [],
   "source": []
  }
 ],
 "metadata": {
  "anaconda-cloud": {},
  "kernelspec": {
   "display_name": "Python [mit6002]",
   "language": "python",
   "name": "Python [mit6002]"
  },
  "language_info": {
   "codemirror_mode": {
    "name": "ipython",
    "version": 3
   },
   "file_extension": ".py",
   "mimetype": "text/x-python",
   "name": "python",
   "nbconvert_exporter": "python",
   "pygments_lexer": "ipython3",
   "version": "3.5.2"
  }
 },
 "nbformat": 4,
 "nbformat_minor": 0
}
