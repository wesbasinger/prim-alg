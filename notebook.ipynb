{
 "cells": [
  {
   "cell_type": "code",
   "execution_count": 14,
   "metadata": {
    "collapsed": true
   },
   "outputs": [],
   "source": [
    "class Vertex(object):\n",
    "    \n",
    "    def __init__(self, x, y):\n",
    "        \n",
    "        self.x = x\n",
    "        self.y = y\n",
    "        \n",
    "    def get_x(self):\n",
    "        \n",
    "        return self.x\n",
    "    \n",
    "    def get_y(self):\n",
    "        \n",
    "        return self.y\n",
    "    \n",
    "    def __str__(self):\n",
    "        return \"( \" + str(self.x) + \", \" + str(self.y) + \" )\"\n",
    "    \n",
    "class Edge(object):\n",
    "    \n",
    "    def __init__(self, first_point, second_point):\n",
    "        \n",
    "        self.first_point = first_point\n",
    "        self.second_point = second_point\n",
    "        \n",
    "        self.weight = (\n",
    "            (self.first_point.get_x() - self.second_point.get_x())**2 +\\\n",
    "            (self.first_point.get_y() - self.second_point.get_y())**2)**0.5\n",
    "        \n",
    "    def get_weight(self):\n",
    "        \n",
    "        return self.weight\n",
    "    \n",
    "    def __str__(self):\n",
    "        \n",
    "        return \"From: \" + self.first_point.__str__() + \" To: \" + self.second_point.__str__() + \" Weight: \" + str(self.weight)"
   ]
  },
  {
   "cell_type": "code",
   "execution_count": 15,
   "metadata": {
    "collapsed": false
   },
   "outputs": [
    {
     "data": {
      "text/plain": [
       "'From: ( 0, 0 ) To: ( 6, 8 ) Weight: 10.0'"
      ]
     },
     "execution_count": 15,
     "metadata": {},
     "output_type": "execute_result"
    }
   ],
   "source": [
    "u = Vertex(0,0)\n",
    "v = Vertex(6, 8)\n",
    "e = Edge(u, v)\n",
    "\n",
    "e.__str__()"
   ]
  },
  {
   "cell_type": "code",
   "execution_count": null,
   "metadata": {
    "collapsed": true
   },
   "outputs": [],
   "source": []
  }
 ],
 "metadata": {
  "anaconda-cloud": {},
  "kernelspec": {
   "display_name": "Python [mit6002]",
   "language": "python",
   "name": "Python [mit6002]"
  },
  "language_info": {
   "codemirror_mode": {
    "name": "ipython",
    "version": 3
   },
   "file_extension": ".py",
   "mimetype": "text/x-python",
   "name": "python",
   "nbconvert_exporter": "python",
   "pygments_lexer": "ipython3",
   "version": "3.5.2"
  }
 },
 "nbformat": 4,
 "nbformat_minor": 0
}
