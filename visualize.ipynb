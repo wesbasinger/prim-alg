{
 "cells": [
  {
   "cell_type": "code",
   "execution_count": 53,
   "metadata": {
    "collapsed": false
   },
   "outputs": [],
   "source": [
    "from time import sleep\n",
    "from vertex import Vertex\n",
    "from graph import Graph"
   ]
  },
  {
   "cell_type": "code",
   "execution_count": 30,
   "metadata": {
    "collapsed": true
   },
   "outputs": [],
   "source": [
    "import matplotlib.pyplot as plt\n",
    "% matplotlib inline"
   ]
  },
  {
   "cell_type": "code",
   "execution_count": 15,
   "metadata": {
    "collapsed": true
   },
   "outputs": [],
   "source": [
    "def split_data(_list):\n",
    "    x = []\n",
    "    y = []\n",
    "    for i in range(len(_list)):\n",
    "        x.append(_list[i][0])\n",
    "        y.append(_list[i][1])\n",
    "    return (x, y)"
   ]
  },
  {
   "cell_type": "code",
   "execution_count": 16,
   "metadata": {
    "collapsed": true
   },
   "outputs": [],
   "source": [
    "easy_data = [[3,1], [7, 1], [4,4], [8,4], [1, 5], [9,5], [4,8], [8, 8], [3,9], [7,9], [5,9]]"
   ]
  },
  {
   "cell_type": "code",
   "execution_count": 41,
   "metadata": {
    "collapsed": false
   },
   "outputs": [
    {
     "data": {
      "text/plain": [
       "([3, 7, 4, 8, 1, 9, 4, 8, 3, 7, 5], [1, 1, 4, 4, 5, 5, 8, 8, 9, 9, 9])"
      ]
     },
     "execution_count": 41,
     "metadata": {},
     "output_type": "execute_result"
    }
   ],
   "source": [
    "spl = split_data(easy_data)\n",
    "spl"
   ]
  },
  {
   "cell_type": "code",
   "execution_count": 42,
   "metadata": {
    "collapsed": false,
    "scrolled": true
   },
   "outputs": [
    {
     "data": {
      "text/plain": [
       "(0.0, 10.0, 0.0, 10.0)"
      ]
     },
     "execution_count": 42,
     "metadata": {},
     "output_type": "execute_result"
    },
    {
     "data": {
      "image/png": "[encoded data removed]",
      "text/plain": [
       "<matplotlib.figure.Figure at 0x10707eb00>"
      ]
     },
     "metadata": {},
     "output_type": "display_data"
    }
   ],
   "source": [
    "plt.scatter(spl[0], spl[1], s=50)\n",
    "plt.axis(\"off\")\n",
    "#plt.savefig(\"easy.png\", transparent=True)"
   ]
  },
  {
   "cell_type": "code",
   "execution_count": 43,
   "metadata": {
    "collapsed": true
   },
   "outputs": [],
   "source": [
    "medium_data = [[3,1], [7, 1], [4,4], [8,4], [1, 5], [9,5], [4,8], [8, 8], [3,9], [7,9], [5,9], [4,12], [8,15], [10, 10], [10, 3]]"
   ]
  },
  {
   "cell_type": "code",
   "execution_count": 44,
   "metadata": {
    "collapsed": false
   },
   "outputs": [
    {
     "data": {
      "text/plain": [
       "([3, 7, 4, 8, 1, 9, 4, 8, 3, 7, 5, 4, 8, 10, 10],\n",
       " [1, 1, 4, 4, 5, 5, 8, 8, 9, 9, 9, 12, 15, 10, 3])"
      ]
     },
     "execution_count": 44,
     "metadata": {},
     "output_type": "execute_result"
    }
   ],
   "source": [
    "spl = split_data(medium_data)\n",
    "spl"
   ]
  },
  {
   "cell_type": "code",
   "execution_count": 45,
   "metadata": {
    "collapsed": false
   },
   "outputs": [
    {
     "data": {
      "text/plain": [
       "(0.0, 12.0, 0.0, 16.0)"
      ]
     },
     "execution_count": 45,
     "metadata": {},
     "output_type": "execute_result"
    },
    {
     "data": {
      "image/png": "[encoded data removed]",
      "text/plain": [
       "<matplotlib.figure.Figure at 0x106ec3048>"
      ]
     },
     "metadata": {},
     "output_type": "display_data"
    }
   ],
   "source": [
    "plt.scatter(spl[0], spl[1], s=50)\n",
    "plt.axis(\"off\")\n",
    "#plt.savefig(\"medium.png\", transparent=True)"
   ]
  },
  {
   "cell_type": "code",
   "execution_count": 27,
   "metadata": {
    "collapsed": true
   },
   "outputs": [],
   "source": [
    "hard_data = [[3,1], [7, 1], [4,4], [8,4], [1, 5], [9,5], [4,8], [8, 8], [3,9], [7,9], [5,9], [4,12], [8,15], [10, 10], [10, 3], [-2, 12], [-5, 8], [-2, 1], [-1,8], [5, -4]]"
   ]
  },
  {
   "cell_type": "code",
   "execution_count": 46,
   "metadata": {
    "collapsed": false
   },
   "outputs": [
    {
     "data": {
      "text/plain": [
       "([3, 7, 4, 8, 1, 9, 4, 8, 3, 7, 5, 4, 8, 10, 10, -2, -5, -2, -1, 5],\n",
       " [1, 1, 4, 4, 5, 5, 8, 8, 9, 9, 9, 12, 15, 10, 3, 12, 8, 1, 8, -4])"
      ]
     },
     "execution_count": 46,
     "metadata": {},
     "output_type": "execute_result"
    }
   ],
   "source": [
    "spl = split_data(hard_data)\n",
    "spl"
   ]
  },
  {
   "cell_type": "code",
   "execution_count": 47,
   "metadata": {
    "collapsed": false
   },
   "outputs": [
    {
     "data": {
      "text/plain": [
       "(-6.0, 12.0, -5.0, 20.0)"
      ]
     },
     "execution_count": 47,
     "metadata": {},
     "output_type": "execute_result"
    },
    {
     "data": {
      "image/png": "[encoded data removed]",
      "text/plain": [
       "<matplotlib.figure.Figure at 0x1069c6198>"
      ]
     },
     "metadata": {},
     "output_type": "display_data"
    }
   ],
   "source": [
    "plt.scatter(spl[0], spl[1], s=50)\n",
    "plt.axis(\"off\")\n",
    "#plt.savefig(\"hard.png\", transparent=True)"
   ]
  },
  {
   "cell_type": "code",
   "execution_count": 48,
   "metadata": {
    "collapsed": true
   },
   "outputs": [],
   "source": [
    "def make_vertex_list(data_list):\n",
    "    v_list = []\n",
    "    for vertex in data_list:\n",
    "        v = Vertex(vertex[0], vertex[1])\n",
    "        v_list.append(v)\n",
    "    return v_list"
   ]
  },
  {
   "cell_type": "code",
   "execution_count": 49,
   "metadata": {
    "collapsed": false
   },
   "outputs": [],
   "source": [
    "easy_vertices = make_vertex_list(easy_data)"
   ]
  },
  {
   "cell_type": "code",
   "execution_count": 50,
   "metadata": {
    "collapsed": false
   },
   "outputs": [
    {
     "name": "stdout",
     "output_type": "stream",
     "text": [
      "From: ( 3, 1 ) To: ( 4, 4 ) Weight: 3.1622776601683795\n",
      "From: ( 4, 4 ) To: ( 1, 5 ) Weight: 3.1622776601683795\n",
      "From: ( 3, 1 ) To: ( 7, 1 ) Weight: 4.0\n",
      "From: ( 7, 1 ) To: ( 8, 4 ) Weight: 3.1622776601683795\n",
      "From: ( 8, 4 ) To: ( 9, 5 ) Weight: 1.4142135623730951\n",
      "From: ( 9, 5 ) To: ( 8, 8 ) Weight: 3.1622776601683795\n",
      "From: ( 8, 8 ) To: ( 7, 9 ) Weight: 1.4142135623730951\n",
      "From: ( 7, 9 ) To: ( 5, 9 ) Weight: 2.0\n",
      "From: ( 5, 9 ) To: ( 4, 8 ) Weight: 1.4142135623730951\n",
      "From: ( 4, 8 ) To: ( 3, 9 ) Weight: 1.4142135623730951\n",
      "Total Weight: 24.305964890165903\n"
     ]
    }
   ],
   "source": [
    "easy_graph = Graph(easy_vertices)\n",
    "easy_graph.make_tree()\n",
    "easy_graph.print_tree()"
   ]
  },
  {
   "cell_type": "code",
   "execution_count": 51,
   "metadata": {
    "collapsed": false
   },
   "outputs": [
    {
     "name": "stdout",
     "output_type": "stream",
     "text": [
      "From: ( 3, 1 ) To: ( 4, 4 ) Weight: 3.1622776601683795\n",
      "From: ( 4, 4 ) To: ( 1, 5 ) Weight: 3.1622776601683795\n",
      "From: ( 3, 1 ) To: ( 7, 1 ) Weight: 4.0\n",
      "From: ( 7, 1 ) To: ( 8, 4 ) Weight: 3.1622776601683795\n",
      "From: ( 8, 4 ) To: ( 9, 5 ) Weight: 1.4142135623730951\n",
      "From: ( 8, 4 ) To: ( 10, 3 ) Weight: 2.23606797749979\n",
      "From: ( 9, 5 ) To: ( 8, 8 ) Weight: 3.1622776601683795\n",
      "From: ( 8, 8 ) To: ( 7, 9 ) Weight: 1.4142135623730951\n",
      "From: ( 7, 9 ) To: ( 5, 9 ) Weight: 2.0\n",
      "From: ( 5, 9 ) To: ( 4, 8 ) Weight: 1.4142135623730951\n",
      "From: ( 4, 8 ) To: ( 3, 9 ) Weight: 1.4142135623730951\n",
      "From: ( 8, 8 ) To: ( 10, 10 ) Weight: 2.8284271247461903\n",
      "From: ( 3, 9 ) To: ( 4, 12 ) Weight: 3.1622776601683795\n",
      "From: ( 4, 12 ) To: ( 8, 15 ) Weight: 5.0\n",
      "Total Weight: 37.532737652580266\n"
     ]
    }
   ],
   "source": [
    "medium_graph = Graph(make_vertex_list(medium_data))\n",
    "medium_graph.make_tree()\n",
    "medium_graph.print_tree()"
   ]
  },
  {
   "cell_type": "code",
   "execution_count": 52,
   "metadata": {
    "collapsed": false
   },
   "outputs": [
    {
     "name": "stdout",
     "output_type": "stream",
     "text": [
      "From: ( 3, 1 ) To: ( 4, 4 ) Weight: 3.1622776601683795\n",
      "From: ( 4, 4 ) To: ( 1, 5 ) Weight: 3.1622776601683795\n",
      "From: ( 1, 5 ) To: ( -1, 8 ) Weight: 3.605551275463989\n",
      "From: ( 3, 1 ) To: ( 7, 1 ) Weight: 4.0\n",
      "From: ( 7, 1 ) To: ( 8, 4 ) Weight: 3.1622776601683795\n",
      "From: ( 8, 4 ) To: ( 9, 5 ) Weight: 1.4142135623730951\n",
      "From: ( 8, 4 ) To: ( 10, 3 ) Weight: 2.23606797749979\n",
      "From: ( 9, 5 ) To: ( 8, 8 ) Weight: 3.1622776601683795\n",
      "From: ( 8, 8 ) To: ( 7, 9 ) Weight: 1.4142135623730951\n",
      "From: ( 7, 9 ) To: ( 5, 9 ) Weight: 2.0\n",
      "From: ( 5, 9 ) To: ( 4, 8 ) Weight: 1.4142135623730951\n",
      "From: ( 4, 8 ) To: ( 3, 9 ) Weight: 1.4142135623730951\n",
      "From: ( 8, 8 ) To: ( 10, 10 ) Weight: 2.8284271247461903\n",
      "From: ( 3, 9 ) To: ( 4, 12 ) Weight: 3.1622776601683795\n",
      "From: ( -1, 8 ) To: ( -5, 8 ) Weight: 4.0\n",
      "From: ( -1, 8 ) To: ( -2, 12 ) Weight: 4.123105625617661\n",
      "From: ( 3, 1 ) To: ( -2, 1 ) Weight: 5.0\n",
      "From: ( 4, 12 ) To: ( 8, 15 ) Weight: 5.0\n",
      "From: ( 3, 1 ) To: ( 5, -4 ) Weight: 5.385164807134504\n",
      "Total Weight: 59.64655936079641\n"
     ]
    }
   ],
   "source": [
    "hard_graph = Graph(make_vertex_list(hard_data))\n",
    "hard_graph.make_tree()\n",
    "hard_graph.print_tree()"
   ]
  },
  {
   "cell_type": "code",
   "execution_count": 60,
   "metadata": {
    "collapsed": true
   },
   "outputs": [],
   "source": [
    "import pylab as pl\n",
    "from matplotlib import collections as mc\n",
    "\n",
    "def animate(data_set):\n",
    "    \n",
    "    graph = Graph(easy_vertices)\n",
    "    graph.make_tree()\n",
    "    \n",
    "    mst = graph.min_span_tree\n",
    "    \n",
    "    lines = []\n",
    "    \n",
    "    for edge in mst:\n",
    "        endpoints = []\n",
    "        endpoints.push(e)\n",
    "        \n",
    "    \n",
    "    spl = split_data(data_set) # this is a tuple with xs and ys split\n",
    "    \n",
    "    lc = mc.LineCollection()\n",
    "        \n",
    "    sleep(1.0)\n",
    "    \n",
    "    fig = plt.figure()\n",
    "    plt.plot(*zip(*itertools.chain.from_iterable(itertools.combinations(all_data, 2))),\n",
    "    color = 'brown', marker = 'o')\n",
    "    plt.show()\n",
    "    \n",
    "    "
   ]
  },
  {
   "cell_type": "code",
   "execution_count": 61,
   "metadata": {
    "collapsed": false
   },
   "outputs": [
    {
     "ename": "AttributeError",
     "evalue": "module 'matplotlib.pyplot' has no attribute 'clear'",
     "output_type": "error",
     "traceback": [
      "\u001b[0;31m---------------------------------------------------------------------------\u001b[0m",
      "\u001b[0;31mAttributeError\u001b[0m                            Traceback (most recent call last)",
      "\u001b[0;32m<ipython-input-61-e342bcb1d60a>\u001b[0m in \u001b[0;36m<module>\u001b[0;34m()\u001b[0m\n\u001b[0;32m----> 1\u001b[0;31m \u001b[0manimate\u001b[0m\u001b[0;34m(\u001b[0m\u001b[0measy_data\u001b[0m\u001b[0;34m)\u001b[0m\u001b[0;34m\u001b[0m\u001b[0m\n\u001b[0m",
      "\u001b[0;32m<ipython-input-60-0e4ea5cf879d>\u001b[0m in \u001b[0;36manimate\u001b[0;34m(data_set)\u001b[0m\n\u001b[1;32m      8\u001b[0m     \u001b[0mplt\u001b[0m\u001b[0;34m.\u001b[0m\u001b[0maxis\u001b[0m\u001b[0;34m(\u001b[0m\u001b[0;34m\"off\"\u001b[0m\u001b[0;34m)\u001b[0m\u001b[0;34m\u001b[0m\u001b[0m\n\u001b[1;32m      9\u001b[0m \u001b[0;34m\u001b[0m\u001b[0m\n\u001b[0;32m---> 10\u001b[0;31m     \u001b[0mplt\u001b[0m\u001b[0;34m.\u001b[0m\u001b[0mclear\u001b[0m\u001b[0;34m(\u001b[0m\u001b[0;34m)\u001b[0m\u001b[0;34m\u001b[0m\u001b[0m\n\u001b[0m\u001b[1;32m     11\u001b[0m \u001b[0;34m\u001b[0m\u001b[0m\n\u001b[1;32m     12\u001b[0m     \u001b[0msleep\u001b[0m\u001b[0;34m(\u001b[0m\u001b[0;36m1.0\u001b[0m\u001b[0;34m)\u001b[0m\u001b[0;34m\u001b[0m\u001b[0m\n",
      "\u001b[0;31mAttributeError\u001b[0m: module 'matplotlib.pyplot' has no attribute 'clear'"
     ]
    },
    {
     "data": {
      "image/png": "[encoded data removed]",
      "text/plain": [
       "<matplotlib.figure.Figure at 0x107082ef0>"
      ]
     },
     "metadata": {},
     "output_type": "display_data"
    }
   ],
   "source": [
    "animate(easy_data)"
   ]
  },
  {
   "cell_type": "code",
   "execution_count": null,
   "metadata": {
    "collapsed": true
   },
   "outputs": [],
   "source": []
  }
 ],
 "metadata": {
  "kernelspec": {
   "display_name": "Python [mit6002]",
   "language": "python",
   "name": "Python [mit6002]"
  },
  "language_info": {
   "codemirror_mode": {
    "name": "ipython",
    "version": 3
   },
   "file_extension": ".py",
   "mimetype": "text/x-python",
   "name": "python",
   "nbconvert_exporter": "python",
   "pygments_lexer": "ipython3",
   "version": "3.5.2"
  }
 },
 "nbformat": 4,
 "nbformat_minor": 0
}
