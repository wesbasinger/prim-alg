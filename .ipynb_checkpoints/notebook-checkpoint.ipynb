{
 "cells": [
  {
   "cell_type": "code",
   "execution_count": 25,
   "metadata": {
    "collapsed": false
   },
   "outputs": [],
   "source": [
    "from decimal import Decimal\n",
    "\n",
    "class Vertex(object):\n",
    "    \n",
    "    def __init__(self, x, y):\n",
    "        \n",
    "        self.x = x\n",
    "        self.y = y\n",
    "        self.priority = Decimal(\"Infinity\")\n",
    "        \n",
    "    def get_x(self):\n",
    "        \n",
    "        return self.x\n",
    "    \n",
    "    def get_y(self):\n",
    "        \n",
    "        return self.y\n",
    "    \n",
    "    def __str__(self):\n",
    "        return \"( \" + str(self.x) + \", \" + str(self.y) + \" )\"\n",
    "    \n",
    "class Edge(object):\n",
    "    \n",
    "    def __init__(self, first_point, second_point):\n",
    "        \n",
    "        self.first_point = first_point\n",
    "        self.second_point = second_point\n",
    "        \n",
    "        self.weight = (\n",
    "            (self.first_point.get_x() - self.second_point.get_x())**2 +\\\n",
    "            (self.first_point.get_y() - self.second_point.get_y())**2)**0.5\n",
    "        \n",
    "    def get_second_point(self):\n",
    "        \n",
    "        return self.second_point\n",
    "        \n",
    "    def get_weight(self):\n",
    "        \n",
    "        return self.weight\n",
    "    \n",
    "    def __str__(self):\n",
    "        \n",
    "        return \"From: \" + self.first_point.__str__() + \" To: \" + self.second_point.__str__() + \" Weight: \" + str(self.weight)\n",
    "\n",
    "    \n",
    "class Graph(object):\n",
    "    \n",
    "    def __init__(self, vertex_list):\n",
    "        \n",
    "        # initialized with every vertex, as graph is constructed, this list is emptied\n",
    "        self.vertex_list = vertex_list\n",
    "        \n",
    "        # array of edges\n",
    "        self.min_span_tree = []\n",
    "        \n",
    "    def make_tree(self):\n",
    "        \n",
    "        while len(self.vertex_list) > 0:\n",
    "            \n",
    "            # pop the first element off list for initial vertex\n",
    "            start = self.vertex_list.pop(0)\n",
    "            \n",
    "            possible_edges = []\n",
    "            \n",
    "            for vertex in self.vertex_list:\n",
    "                \n",
    "                # make an edge to test\n",
    "                e = Edge(start, vertex)\n",
    "                possible_edges.append(e)\n",
    "            \n",
    "            # find the shortest edge in possible_edges\n",
    "            winning_weight = Decimal('Infinity')\n",
    "            winning_edge = None\n",
    "            \n",
    "            for edge in possible_edges:\n",
    "                \n",
    "                if edge.get_weight() < winning_weight:\n",
    "\n",
    "                    winning_edge = edge\n",
    "                    winning_weight = edge.get_weight()\n",
    "                \n",
    "            self.min_span_tree.append(winning_edge)\n",
    "    \n",
    "    def print_tree(self):\n",
    "        \n",
    "        total_weight = 0\n",
    "        \n",
    "        for e in self.min_span_tree:\n",
    "            \n",
    "            try:\n",
    "                total_weight += e.get_weight()\n",
    "            except AttributeError:\n",
    "                pass\n",
    "            print(e.__str__())\n",
    "        print(\"Total Weight: \" + str(total_weight)) "
   ]
  },
  {
   "cell_type": "code",
   "execution_count": 26,
   "metadata": {
    "collapsed": true
   },
   "outputs": [],
   "source": [
    "g = Graph([Vertex(0,0), Vertex(1,0), Vertex(1,1)])"
   ]
  },
  {
   "cell_type": "code",
   "execution_count": 27,
   "metadata": {
    "collapsed": false
   },
   "outputs": [
    {
     "name": "stdout",
     "output_type": "stream",
     "text": [
      "From: ( 0, 0 ) To: ( 1, 0 ) Weight: 1.0\n",
      "From: ( 1, 0 ) To: ( 1, 1 ) Weight: 1.0\n"
     ]
    },
    {
     "ename": "AttributeError",
     "evalue": "'NoneType' object has no attribute 'get_weight'",
     "output_type": "error",
     "traceback": [
      "\u001b[0;31m---------------------------------------------------------------------------\u001b[0m",
      "\u001b[0;31mAttributeError\u001b[0m                            Traceback (most recent call last)",
      "\u001b[0;32m<ipython-input-27-e7cd2cc0db9a>\u001b[0m in \u001b[0;36m<module>\u001b[0;34m()\u001b[0m\n\u001b[1;32m      1\u001b[0m \u001b[0mg\u001b[0m\u001b[0;34m.\u001b[0m\u001b[0mmake_tree\u001b[0m\u001b[0;34m(\u001b[0m\u001b[0;34m)\u001b[0m\u001b[0;34m\u001b[0m\u001b[0m\n\u001b[0;32m----> 2\u001b[0;31m \u001b[0mg\u001b[0m\u001b[0;34m.\u001b[0m\u001b[0mprint_tree\u001b[0m\u001b[0;34m(\u001b[0m\u001b[0;34m)\u001b[0m\u001b[0;34m\u001b[0m\u001b[0m\n\u001b[0m",
      "\u001b[0;32m<ipython-input-25-67ed82234776>\u001b[0m in \u001b[0;36mprint_tree\u001b[0;34m(self)\u001b[0m\n\u001b[1;32m     88\u001b[0m         \u001b[0;32mfor\u001b[0m \u001b[0me\u001b[0m \u001b[0;32min\u001b[0m \u001b[0mself\u001b[0m\u001b[0;34m.\u001b[0m\u001b[0mmin_span_tree\u001b[0m\u001b[0;34m:\u001b[0m\u001b[0;34m\u001b[0m\u001b[0m\n\u001b[1;32m     89\u001b[0m \u001b[0;34m\u001b[0m\u001b[0m\n\u001b[0;32m---> 90\u001b[0;31m             \u001b[0mtotal_weight\u001b[0m \u001b[0;34m+=\u001b[0m \u001b[0me\u001b[0m\u001b[0;34m.\u001b[0m\u001b[0mget_weight\u001b[0m\u001b[0;34m(\u001b[0m\u001b[0;34m)\u001b[0m\u001b[0;34m\u001b[0m\u001b[0m\n\u001b[0m\u001b[1;32m     91\u001b[0m             \u001b[0mprint\u001b[0m\u001b[0;34m(\u001b[0m\u001b[0me\u001b[0m\u001b[0;34m.\u001b[0m\u001b[0m__str__\u001b[0m\u001b[0;34m(\u001b[0m\u001b[0;34m)\u001b[0m\u001b[0;34m)\u001b[0m\u001b[0;34m\u001b[0m\u001b[0m\n\u001b[1;32m     92\u001b[0m         \u001b[0;32mtry\u001b[0m\u001b[0;34m:\u001b[0m\u001b[0;34m\u001b[0m\u001b[0m\n",
      "\u001b[0;31mAttributeError\u001b[0m: 'NoneType' object has no attribute 'get_weight'"
     ]
    }
   ],
   "source": [
    "g.make_tree()\n",
    "g.print_tree()"
   ]
  },
  {
   "cell_type": "code",
   "execution_count": null,
   "metadata": {
    "collapsed": true
   },
   "outputs": [],
   "source": []
  }
 ],
 "metadata": {
  "anaconda-cloud": {},
  "kernelspec": {
   "display_name": "Python [mit6002]",
   "language": "python",
   "name": "Python [mit6002]"
  },
  "language_info": {
   "codemirror_mode": {
    "name": "ipython",
    "version": 3
   },
   "file_extension": ".py",
   "mimetype": "text/x-python",
   "name": "python",
   "nbconvert_exporter": "python",
   "pygments_lexer": "ipython3",
   "version": "3.5.2"
  }
 },
 "nbformat": 4,
 "nbformat_minor": 0
}
